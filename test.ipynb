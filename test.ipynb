{
 "cells": [
  {
   "cell_type": "code",
   "id": "initial_id",
   "metadata": {
    "collapsed": true,
    "ExecuteTime": {
     "end_time": "2024-08-14T19:55:53.029932Z",
     "start_time": "2024-08-14T19:55:52.347830Z"
    }
   },
   "source": [
    "import pandas\n",
    "from utility import data_ai"
   ],
   "outputs": [],
   "execution_count": 1
  },
  {
   "metadata": {
    "ExecuteTime": {
     "end_time": "2024-08-14T19:56:01.991415Z",
     "start_time": "2024-08-14T19:55:59.913455Z"
    }
   },
   "cell_type": "code",
   "source": [
    "import openai\n",
    "openai.api_key = input('Enter API key from (https://platform.openai.com/account/api-keys): ')"
   ],
   "id": "70f53635ef0ad094",
   "outputs": [],
   "execution_count": 2
  },
  {
   "metadata": {
    "ExecuteTime": {
     "end_time": "2024-08-14T19:56:38.156399Z",
     "start_time": "2024-08-14T19:56:37.416023Z"
    }
   },
   "cell_type": "code",
   "source": "df = pandas.read_csv(\"D:\\\\datasets\\\\Amazon Sale Report.csv\",low_memory=False)",
   "id": "b4251d710578068c",
   "outputs": [],
   "execution_count": 4
  },
  {
   "metadata": {
    "ExecuteTime": {
     "end_time": "2024-08-14T19:59:00.257971Z",
     "start_time": "2024-08-14T19:58:59.666761Z"
    }
   },
   "cell_type": "code",
   "source": "df.ask(\"How many rows available\")",
   "id": "f8813c5ec0a53b7f",
   "outputs": [
    {
     "data": {
      "text/plain": [
       "19379"
      ]
     },
     "execution_count": 8,
     "metadata": {},
     "output_type": "execute_result"
    }
   ],
   "execution_count": 8
  },
  {
   "metadata": {
    "ExecuteTime": {
     "end_time": "2024-08-14T19:58:56.882901Z",
     "start_time": "2024-08-14T19:58:56.784842Z"
    }
   },
   "cell_type": "code",
   "source": "df = df.dropna()",
   "id": "fbdec1cc626d2a2",
   "outputs": [],
   "execution_count": 7
  }
 ],
 "metadata": {
  "kernelspec": {
   "display_name": "Python 3",
   "language": "python",
   "name": "python3"
  },
  "language_info": {
   "codemirror_mode": {
    "name": "ipython",
    "version": 2
   },
   "file_extension": ".py",
   "mimetype": "text/x-python",
   "name": "python",
   "nbconvert_exporter": "python",
   "pygments_lexer": "ipython2",
   "version": "2.7.6"
  }
 },
 "nbformat": 4,
 "nbformat_minor": 5
}
